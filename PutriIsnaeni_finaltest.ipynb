{
  "nbformat": 4,
  "nbformat_minor": 0,
  "metadata": {
    "colab": {
      "name": "PutriIsnaeni_finaltest.ipynb",
      "provenance": [],
      "collapsed_sections": []
    },
    "kernelspec": {
      "name": "python3",
      "display_name": "Python 3"
    }
  },
  "cells": [
    {
      "cell_type": "markdown",
      "metadata": {
        "id": "j8ehbt51eiww",
        "colab_type": "text"
      },
      "source": [
        "# No 1\n",
        "Tuliskan script untuk import pandas library dan library untuk klasifikasi menggunakan Decision Tree"
      ]
    },
    {
      "cell_type": "code",
      "metadata": {
        "id": "J4QYowioebpC",
        "colab_type": "code",
        "colab": {}
      },
      "source": [
        "import pandas as pd\n",
        "import numpy as np\n",
        "from sklearn.tree import DecisionTreeClassifier"
      ],
      "execution_count": 0,
      "outputs": []
    },
    {
      "cell_type": "markdown",
      "metadata": {
        "id": "Zh_jAcnGfFhZ",
        "colab_type": "text"
      },
      "source": [
        "# No 2\n",
        "Sebutkan setidaknya 2 library untuk fungsi visualisasi di python."
      ]
    },
    {
      "cell_type": "code",
      "metadata": {
        "id": "ySABp_6_fbVS",
        "colab_type": "code",
        "colab": {}
      },
      "source": [
        "import matplotlib.pyplot as plt\n",
        "import seaborn as sns\n",
        "%matplotlib inline"
      ],
      "execution_count": 0,
      "outputs": []
    },
    {
      "cell_type": "markdown",
      "metadata": {
        "id": "jf2pIg6vflsV",
        "colab_type": "text"
      },
      "source": [
        "# No 3\n",
        "- Import loan_data.csv.\n",
        "\n",
        "- Identifikasi tipe data dari masing-masing variable.\n",
        "\n",
        "- Tampilkan 5 baris pertama dan tampilkan informasi summary statistics-nya."
      ]
    },
    {
      "cell_type": "markdown",
      "metadata": {
        "id": "9Il6orhcf3QB",
        "colab_type": "text"
      },
      "source": [
        "## Load Data"
      ]
    },
    {
      "cell_type": "code",
      "metadata": {
        "id": "6xWawoMyf-S9",
        "colab_type": "code",
        "colab": {
          "base_uri": "https://localhost:8080/",
          "height": 54
        },
        "outputId": "1f48274c-32ed-439a-b1f7-5239c10c6847"
      },
      "source": [
        "from google.colab import drive\n",
        "drive.mount('/content/drive')"
      ],
      "execution_count": 119,
      "outputs": [
        {
          "output_type": "stream",
          "text": [
            "Drive already mounted at /content/drive; to attempt to forcibly remount, call drive.mount(\"/content/drive\", force_remount=True).\n"
          ],
          "name": "stdout"
        }
      ]
    },
    {
      "cell_type": "code",
      "metadata": {
        "id": "PxO5bKm_f51c",
        "colab_type": "code",
        "colab": {}
      },
      "source": [
        "data = pd.read_csv('/content/drive/My Drive/Buat Belajar/FINAL TEST BOS/loan_data.csv')"
      ],
      "execution_count": 0,
      "outputs": []
    },
    {
      "cell_type": "markdown",
      "metadata": {
        "id": "kWiN6zKXgpOU",
        "colab_type": "text"
      },
      "source": [
        "Data berhasil di import ke dalam notebook"
      ]
    },
    {
      "cell_type": "markdown",
      "metadata": {
        "id": "PlQxHp9bgaX1",
        "colab_type": "text"
      },
      "source": [
        "## Tipe data masing-masing variable"
      ]
    },
    {
      "cell_type": "code",
      "metadata": {
        "id": "ePx36KAze7-u",
        "colab_type": "code",
        "colab": {
          "base_uri": "https://localhost:8080/",
          "height": 340
        },
        "outputId": "5058e84d-576a-4b08-df52-4774a7ec4fb3"
      },
      "source": [
        "data.info()"
      ],
      "execution_count": 121,
      "outputs": [
        {
          "output_type": "stream",
          "text": [
            "<class 'pandas.core.frame.DataFrame'>\n",
            "RangeIndex: 9578 entries, 0 to 9577\n",
            "Data columns (total 14 columns):\n",
            "credit.policy        9578 non-null int64\n",
            "purpose              9578 non-null object\n",
            "int.rate             9578 non-null float64\n",
            "installment          9578 non-null float64\n",
            "log.annual.inc       9578 non-null float64\n",
            "dti                  9578 non-null float64\n",
            "fico                 9578 non-null int64\n",
            "days.with.cr.line    9578 non-null float64\n",
            "revol.bal            9578 non-null int64\n",
            "revol.util           9578 non-null float64\n",
            "inq.last.6mths       9578 non-null int64\n",
            "delinq.2yrs          9578 non-null int64\n",
            "pub.rec              9578 non-null int64\n",
            "not.fully.paid       9578 non-null int64\n",
            "dtypes: float64(6), int64(7), object(1)\n",
            "memory usage: 1.0+ MB\n"
          ],
          "name": "stdout"
        }
      ]
    },
    {
      "cell_type": "code",
      "metadata": {
        "id": "f9LRPghtghlS",
        "colab_type": "code",
        "colab": {
          "base_uri": "https://localhost:8080/",
          "height": 34
        },
        "outputId": "96049d18-1ac9-4c46-ef98-8c92deb70bcd"
      },
      "source": [
        "data.shape"
      ],
      "execution_count": 122,
      "outputs": [
        {
          "output_type": "execute_result",
          "data": {
            "text/plain": [
              "(9578, 14)"
            ]
          },
          "metadata": {
            "tags": []
          },
          "execution_count": 122
        }
      ]
    },
    {
      "cell_type": "markdown",
      "metadata": {
        "id": "6ep2IBwwgr_9",
        "colab_type": "text"
      },
      "source": [
        "Terdapat 14 fitur dalam data ini dengan tipe data sebagai berikut :\n",
        "1. **credit.policy** dengan tipe data integer\n",
        "2. **purpose** dengan tipe data string\n",
        "3. **int.rate** dengan tipe data float\n",
        "4. **installment** dengan tipe data float\n",
        "5. **log.annual.inc** dengan tipe data float\n",
        "6. **dti** dengan tipe data float\n",
        "7. **fico** dengan tipe data integer\n",
        "8. **days.with.cr.line** dengan tipe data float\n",
        "9. **revol.bal** dengan tipe data integer\n",
        "10. **revol.util** dengan tipe data float\n",
        "11. **inq.last.6mths** dengan tipe integer\n",
        "12. **deling.2yrs** dengan tipe integer\n",
        "13. **pub.rec** dengan tipe integer\n",
        "14. **not.fully.paid** dengan tipe integer\n"
      ]
    },
    {
      "cell_type": "markdown",
      "metadata": {
        "id": "-rHknM2JiEX5",
        "colab_type": "text"
      },
      "source": [
        "## Tampilkan 5 baris pertama\n",
        "Berikut merupakan 5 baris pertama dari data ini"
      ]
    },
    {
      "cell_type": "code",
      "metadata": {
        "id": "8Rxf1mm0gt3B",
        "colab_type": "code",
        "colab": {
          "base_uri": "https://localhost:8080/",
          "height": 224
        },
        "outputId": "0d4f201b-3e10-48d6-a486-7a60035f0632"
      },
      "source": [
        "data.head(5)"
      ],
      "execution_count": 123,
      "outputs": [
        {
          "output_type": "execute_result",
          "data": {
            "text/html": [
              "<div>\n",
              "<style scoped>\n",
              "    .dataframe tbody tr th:only-of-type {\n",
              "        vertical-align: middle;\n",
              "    }\n",
              "\n",
              "    .dataframe tbody tr th {\n",
              "        vertical-align: top;\n",
              "    }\n",
              "\n",
              "    .dataframe thead th {\n",
              "        text-align: right;\n",
              "    }\n",
              "</style>\n",
              "<table border=\"1\" class=\"dataframe\">\n",
              "  <thead>\n",
              "    <tr style=\"text-align: right;\">\n",
              "      <th></th>\n",
              "      <th>credit.policy</th>\n",
              "      <th>purpose</th>\n",
              "      <th>int.rate</th>\n",
              "      <th>installment</th>\n",
              "      <th>log.annual.inc</th>\n",
              "      <th>dti</th>\n",
              "      <th>fico</th>\n",
              "      <th>days.with.cr.line</th>\n",
              "      <th>revol.bal</th>\n",
              "      <th>revol.util</th>\n",
              "      <th>inq.last.6mths</th>\n",
              "      <th>delinq.2yrs</th>\n",
              "      <th>pub.rec</th>\n",
              "      <th>not.fully.paid</th>\n",
              "    </tr>\n",
              "  </thead>\n",
              "  <tbody>\n",
              "    <tr>\n",
              "      <th>0</th>\n",
              "      <td>1</td>\n",
              "      <td>debt_consolidation</td>\n",
              "      <td>0.1189</td>\n",
              "      <td>829.10</td>\n",
              "      <td>11.350407</td>\n",
              "      <td>19.48</td>\n",
              "      <td>737</td>\n",
              "      <td>5639.958333</td>\n",
              "      <td>28854</td>\n",
              "      <td>52.1</td>\n",
              "      <td>0</td>\n",
              "      <td>0</td>\n",
              "      <td>0</td>\n",
              "      <td>0</td>\n",
              "    </tr>\n",
              "    <tr>\n",
              "      <th>1</th>\n",
              "      <td>1</td>\n",
              "      <td>credit_card</td>\n",
              "      <td>0.1071</td>\n",
              "      <td>228.22</td>\n",
              "      <td>11.082143</td>\n",
              "      <td>14.29</td>\n",
              "      <td>707</td>\n",
              "      <td>2760.000000</td>\n",
              "      <td>33623</td>\n",
              "      <td>76.7</td>\n",
              "      <td>0</td>\n",
              "      <td>0</td>\n",
              "      <td>0</td>\n",
              "      <td>0</td>\n",
              "    </tr>\n",
              "    <tr>\n",
              "      <th>2</th>\n",
              "      <td>1</td>\n",
              "      <td>debt_consolidation</td>\n",
              "      <td>0.1357</td>\n",
              "      <td>366.86</td>\n",
              "      <td>10.373491</td>\n",
              "      <td>11.63</td>\n",
              "      <td>682</td>\n",
              "      <td>4710.000000</td>\n",
              "      <td>3511</td>\n",
              "      <td>25.6</td>\n",
              "      <td>1</td>\n",
              "      <td>0</td>\n",
              "      <td>0</td>\n",
              "      <td>0</td>\n",
              "    </tr>\n",
              "    <tr>\n",
              "      <th>3</th>\n",
              "      <td>1</td>\n",
              "      <td>debt_consolidation</td>\n",
              "      <td>0.1008</td>\n",
              "      <td>162.34</td>\n",
              "      <td>11.350407</td>\n",
              "      <td>8.10</td>\n",
              "      <td>712</td>\n",
              "      <td>2699.958333</td>\n",
              "      <td>33667</td>\n",
              "      <td>73.2</td>\n",
              "      <td>1</td>\n",
              "      <td>0</td>\n",
              "      <td>0</td>\n",
              "      <td>0</td>\n",
              "    </tr>\n",
              "    <tr>\n",
              "      <th>4</th>\n",
              "      <td>1</td>\n",
              "      <td>credit_card</td>\n",
              "      <td>0.1426</td>\n",
              "      <td>102.92</td>\n",
              "      <td>11.299732</td>\n",
              "      <td>14.97</td>\n",
              "      <td>667</td>\n",
              "      <td>4066.000000</td>\n",
              "      <td>4740</td>\n",
              "      <td>39.5</td>\n",
              "      <td>0</td>\n",
              "      <td>1</td>\n",
              "      <td>0</td>\n",
              "      <td>0</td>\n",
              "    </tr>\n",
              "  </tbody>\n",
              "</table>\n",
              "</div>"
            ],
            "text/plain": [
              "   credit.policy             purpose  ...  pub.rec  not.fully.paid\n",
              "0              1  debt_consolidation  ...        0               0\n",
              "1              1         credit_card  ...        0               0\n",
              "2              1  debt_consolidation  ...        0               0\n",
              "3              1  debt_consolidation  ...        0               0\n",
              "4              1         credit_card  ...        0               0\n",
              "\n",
              "[5 rows x 14 columns]"
            ]
          },
          "metadata": {
            "tags": []
          },
          "execution_count": 123
        }
      ]
    },
    {
      "cell_type": "markdown",
      "metadata": {
        "id": "pAv7ZywEiPio",
        "colab_type": "text"
      },
      "source": [
        "## Summary statistics\n",
        "Berikut merupakan ringkasan statsitic dari data loan"
      ]
    },
    {
      "cell_type": "code",
      "metadata": {
        "id": "IjuTiFIbiP_Y",
        "colab_type": "code",
        "colab": {
          "base_uri": "https://localhost:8080/",
          "height": 317
        },
        "outputId": "05029f0e-efa5-4c9d-f05f-11107bf7ba1f"
      },
      "source": [
        "data.describe()"
      ],
      "execution_count": 124,
      "outputs": [
        {
          "output_type": "execute_result",
          "data": {
            "text/html": [
              "<div>\n",
              "<style scoped>\n",
              "    .dataframe tbody tr th:only-of-type {\n",
              "        vertical-align: middle;\n",
              "    }\n",
              "\n",
              "    .dataframe tbody tr th {\n",
              "        vertical-align: top;\n",
              "    }\n",
              "\n",
              "    .dataframe thead th {\n",
              "        text-align: right;\n",
              "    }\n",
              "</style>\n",
              "<table border=\"1\" class=\"dataframe\">\n",
              "  <thead>\n",
              "    <tr style=\"text-align: right;\">\n",
              "      <th></th>\n",
              "      <th>credit.policy</th>\n",
              "      <th>int.rate</th>\n",
              "      <th>installment</th>\n",
              "      <th>log.annual.inc</th>\n",
              "      <th>dti</th>\n",
              "      <th>fico</th>\n",
              "      <th>days.with.cr.line</th>\n",
              "      <th>revol.bal</th>\n",
              "      <th>revol.util</th>\n",
              "      <th>inq.last.6mths</th>\n",
              "      <th>delinq.2yrs</th>\n",
              "      <th>pub.rec</th>\n",
              "      <th>not.fully.paid</th>\n",
              "    </tr>\n",
              "  </thead>\n",
              "  <tbody>\n",
              "    <tr>\n",
              "      <th>count</th>\n",
              "      <td>9578.000000</td>\n",
              "      <td>9578.000000</td>\n",
              "      <td>9578.000000</td>\n",
              "      <td>9578.000000</td>\n",
              "      <td>9578.000000</td>\n",
              "      <td>9578.000000</td>\n",
              "      <td>9578.000000</td>\n",
              "      <td>9.578000e+03</td>\n",
              "      <td>9578.000000</td>\n",
              "      <td>9578.000000</td>\n",
              "      <td>9578.000000</td>\n",
              "      <td>9578.000000</td>\n",
              "      <td>9578.000000</td>\n",
              "    </tr>\n",
              "    <tr>\n",
              "      <th>mean</th>\n",
              "      <td>0.804970</td>\n",
              "      <td>0.122640</td>\n",
              "      <td>319.089413</td>\n",
              "      <td>10.932117</td>\n",
              "      <td>12.606679</td>\n",
              "      <td>710.846314</td>\n",
              "      <td>4560.767197</td>\n",
              "      <td>1.691396e+04</td>\n",
              "      <td>46.799236</td>\n",
              "      <td>1.577469</td>\n",
              "      <td>0.163708</td>\n",
              "      <td>0.062122</td>\n",
              "      <td>0.160054</td>\n",
              "    </tr>\n",
              "    <tr>\n",
              "      <th>std</th>\n",
              "      <td>0.396245</td>\n",
              "      <td>0.026847</td>\n",
              "      <td>207.071301</td>\n",
              "      <td>0.614813</td>\n",
              "      <td>6.883970</td>\n",
              "      <td>37.970537</td>\n",
              "      <td>2496.930377</td>\n",
              "      <td>3.375619e+04</td>\n",
              "      <td>29.014417</td>\n",
              "      <td>2.200245</td>\n",
              "      <td>0.546215</td>\n",
              "      <td>0.262126</td>\n",
              "      <td>0.366676</td>\n",
              "    </tr>\n",
              "    <tr>\n",
              "      <th>min</th>\n",
              "      <td>0.000000</td>\n",
              "      <td>0.060000</td>\n",
              "      <td>15.670000</td>\n",
              "      <td>7.547502</td>\n",
              "      <td>0.000000</td>\n",
              "      <td>612.000000</td>\n",
              "      <td>178.958333</td>\n",
              "      <td>0.000000e+00</td>\n",
              "      <td>0.000000</td>\n",
              "      <td>0.000000</td>\n",
              "      <td>0.000000</td>\n",
              "      <td>0.000000</td>\n",
              "      <td>0.000000</td>\n",
              "    </tr>\n",
              "    <tr>\n",
              "      <th>25%</th>\n",
              "      <td>1.000000</td>\n",
              "      <td>0.103900</td>\n",
              "      <td>163.770000</td>\n",
              "      <td>10.558414</td>\n",
              "      <td>7.212500</td>\n",
              "      <td>682.000000</td>\n",
              "      <td>2820.000000</td>\n",
              "      <td>3.187000e+03</td>\n",
              "      <td>22.600000</td>\n",
              "      <td>0.000000</td>\n",
              "      <td>0.000000</td>\n",
              "      <td>0.000000</td>\n",
              "      <td>0.000000</td>\n",
              "    </tr>\n",
              "    <tr>\n",
              "      <th>50%</th>\n",
              "      <td>1.000000</td>\n",
              "      <td>0.122100</td>\n",
              "      <td>268.950000</td>\n",
              "      <td>10.928884</td>\n",
              "      <td>12.665000</td>\n",
              "      <td>707.000000</td>\n",
              "      <td>4139.958333</td>\n",
              "      <td>8.596000e+03</td>\n",
              "      <td>46.300000</td>\n",
              "      <td>1.000000</td>\n",
              "      <td>0.000000</td>\n",
              "      <td>0.000000</td>\n",
              "      <td>0.000000</td>\n",
              "    </tr>\n",
              "    <tr>\n",
              "      <th>75%</th>\n",
              "      <td>1.000000</td>\n",
              "      <td>0.140700</td>\n",
              "      <td>432.762500</td>\n",
              "      <td>11.291293</td>\n",
              "      <td>17.950000</td>\n",
              "      <td>737.000000</td>\n",
              "      <td>5730.000000</td>\n",
              "      <td>1.824950e+04</td>\n",
              "      <td>70.900000</td>\n",
              "      <td>2.000000</td>\n",
              "      <td>0.000000</td>\n",
              "      <td>0.000000</td>\n",
              "      <td>0.000000</td>\n",
              "    </tr>\n",
              "    <tr>\n",
              "      <th>max</th>\n",
              "      <td>1.000000</td>\n",
              "      <td>0.216400</td>\n",
              "      <td>940.140000</td>\n",
              "      <td>14.528354</td>\n",
              "      <td>29.960000</td>\n",
              "      <td>827.000000</td>\n",
              "      <td>17639.958330</td>\n",
              "      <td>1.207359e+06</td>\n",
              "      <td>119.000000</td>\n",
              "      <td>33.000000</td>\n",
              "      <td>13.000000</td>\n",
              "      <td>5.000000</td>\n",
              "      <td>1.000000</td>\n",
              "    </tr>\n",
              "  </tbody>\n",
              "</table>\n",
              "</div>"
            ],
            "text/plain": [
              "       credit.policy     int.rate  ...      pub.rec  not.fully.paid\n",
              "count    9578.000000  9578.000000  ...  9578.000000     9578.000000\n",
              "mean        0.804970     0.122640  ...     0.062122        0.160054\n",
              "std         0.396245     0.026847  ...     0.262126        0.366676\n",
              "min         0.000000     0.060000  ...     0.000000        0.000000\n",
              "25%         1.000000     0.103900  ...     0.000000        0.000000\n",
              "50%         1.000000     0.122100  ...     0.000000        0.000000\n",
              "75%         1.000000     0.140700  ...     0.000000        0.000000\n",
              "max         1.000000     0.216400  ...     5.000000        1.000000\n",
              "\n",
              "[8 rows x 13 columns]"
            ]
          },
          "metadata": {
            "tags": []
          },
          "execution_count": 124
        }
      ]
    },
    {
      "cell_type": "markdown",
      "metadata": {
        "id": "zJNiI55-iuZX",
        "colab_type": "text"
      },
      "source": [
        "# No.4\n",
        "Lakukan pengecekan missing data dan duplicated-row.\n",
        "\n",
        "Jika ada, sebutkan kolom apa yang ada missing data.\n",
        "\n",
        "Apakah ada duplicated-row?"
      ]
    },
    {
      "cell_type": "markdown",
      "metadata": {
        "id": "AoUw2l60iyf3",
        "colab_type": "text"
      },
      "source": [
        "## Check Missing Values"
      ]
    },
    {
      "cell_type": "code",
      "metadata": {
        "id": "GUhx6LHZigqX",
        "colab_type": "code",
        "colab": {
          "base_uri": "https://localhost:8080/",
          "height": 34
        },
        "outputId": "57fc2d3c-fee9-4aaa-ba5c-3bf8588cf8cb"
      },
      "source": [
        "#Persentase Data yang Missing\n",
        "sum(data.isnull().sum())/(data.shape[0]*data.shape[1])*100"
      ],
      "execution_count": 125,
      "outputs": [
        {
          "output_type": "execute_result",
          "data": {
            "text/plain": [
              "0.0"
            ]
          },
          "metadata": {
            "tags": []
          },
          "execution_count": 125
        }
      ]
    },
    {
      "cell_type": "markdown",
      "metadata": {
        "id": "SUr__VDOkA51",
        "colab_type": "text"
      },
      "source": [
        "Tidak ada data yang missing karena persentase data yang missing 0%"
      ]
    },
    {
      "cell_type": "markdown",
      "metadata": {
        "id": "f8ZQ6L5GksS7",
        "colab_type": "text"
      },
      "source": [
        "## Check Duplicate Row"
      ]
    },
    {
      "cell_type": "code",
      "metadata": {
        "id": "9onzRMAUi_QL",
        "colab_type": "code",
        "colab": {
          "base_uri": "https://localhost:8080/",
          "height": 224
        },
        "outputId": "60595683-5df4-4e2a-93d9-af567402a80d"
      },
      "source": [
        "data[\"is_duplicate\"]= data.duplicated()\n",
        "data.head()"
      ],
      "execution_count": 126,
      "outputs": [
        {
          "output_type": "execute_result",
          "data": {
            "text/html": [
              "<div>\n",
              "<style scoped>\n",
              "    .dataframe tbody tr th:only-of-type {\n",
              "        vertical-align: middle;\n",
              "    }\n",
              "\n",
              "    .dataframe tbody tr th {\n",
              "        vertical-align: top;\n",
              "    }\n",
              "\n",
              "    .dataframe thead th {\n",
              "        text-align: right;\n",
              "    }\n",
              "</style>\n",
              "<table border=\"1\" class=\"dataframe\">\n",
              "  <thead>\n",
              "    <tr style=\"text-align: right;\">\n",
              "      <th></th>\n",
              "      <th>credit.policy</th>\n",
              "      <th>purpose</th>\n",
              "      <th>int.rate</th>\n",
              "      <th>installment</th>\n",
              "      <th>log.annual.inc</th>\n",
              "      <th>dti</th>\n",
              "      <th>fico</th>\n",
              "      <th>days.with.cr.line</th>\n",
              "      <th>revol.bal</th>\n",
              "      <th>revol.util</th>\n",
              "      <th>inq.last.6mths</th>\n",
              "      <th>delinq.2yrs</th>\n",
              "      <th>pub.rec</th>\n",
              "      <th>not.fully.paid</th>\n",
              "      <th>is_duplicate</th>\n",
              "    </tr>\n",
              "  </thead>\n",
              "  <tbody>\n",
              "    <tr>\n",
              "      <th>0</th>\n",
              "      <td>1</td>\n",
              "      <td>debt_consolidation</td>\n",
              "      <td>0.1189</td>\n",
              "      <td>829.10</td>\n",
              "      <td>11.350407</td>\n",
              "      <td>19.48</td>\n",
              "      <td>737</td>\n",
              "      <td>5639.958333</td>\n",
              "      <td>28854</td>\n",
              "      <td>52.1</td>\n",
              "      <td>0</td>\n",
              "      <td>0</td>\n",
              "      <td>0</td>\n",
              "      <td>0</td>\n",
              "      <td>False</td>\n",
              "    </tr>\n",
              "    <tr>\n",
              "      <th>1</th>\n",
              "      <td>1</td>\n",
              "      <td>credit_card</td>\n",
              "      <td>0.1071</td>\n",
              "      <td>228.22</td>\n",
              "      <td>11.082143</td>\n",
              "      <td>14.29</td>\n",
              "      <td>707</td>\n",
              "      <td>2760.000000</td>\n",
              "      <td>33623</td>\n",
              "      <td>76.7</td>\n",
              "      <td>0</td>\n",
              "      <td>0</td>\n",
              "      <td>0</td>\n",
              "      <td>0</td>\n",
              "      <td>False</td>\n",
              "    </tr>\n",
              "    <tr>\n",
              "      <th>2</th>\n",
              "      <td>1</td>\n",
              "      <td>debt_consolidation</td>\n",
              "      <td>0.1357</td>\n",
              "      <td>366.86</td>\n",
              "      <td>10.373491</td>\n",
              "      <td>11.63</td>\n",
              "      <td>682</td>\n",
              "      <td>4710.000000</td>\n",
              "      <td>3511</td>\n",
              "      <td>25.6</td>\n",
              "      <td>1</td>\n",
              "      <td>0</td>\n",
              "      <td>0</td>\n",
              "      <td>0</td>\n",
              "      <td>False</td>\n",
              "    </tr>\n",
              "    <tr>\n",
              "      <th>3</th>\n",
              "      <td>1</td>\n",
              "      <td>debt_consolidation</td>\n",
              "      <td>0.1008</td>\n",
              "      <td>162.34</td>\n",
              "      <td>11.350407</td>\n",
              "      <td>8.10</td>\n",
              "      <td>712</td>\n",
              "      <td>2699.958333</td>\n",
              "      <td>33667</td>\n",
              "      <td>73.2</td>\n",
              "      <td>1</td>\n",
              "      <td>0</td>\n",
              "      <td>0</td>\n",
              "      <td>0</td>\n",
              "      <td>False</td>\n",
              "    </tr>\n",
              "    <tr>\n",
              "      <th>4</th>\n",
              "      <td>1</td>\n",
              "      <td>credit_card</td>\n",
              "      <td>0.1426</td>\n",
              "      <td>102.92</td>\n",
              "      <td>11.299732</td>\n",
              "      <td>14.97</td>\n",
              "      <td>667</td>\n",
              "      <td>4066.000000</td>\n",
              "      <td>4740</td>\n",
              "      <td>39.5</td>\n",
              "      <td>0</td>\n",
              "      <td>1</td>\n",
              "      <td>0</td>\n",
              "      <td>0</td>\n",
              "      <td>False</td>\n",
              "    </tr>\n",
              "  </tbody>\n",
              "</table>\n",
              "</div>"
            ],
            "text/plain": [
              "   credit.policy             purpose  ...  not.fully.paid  is_duplicate\n",
              "0              1  debt_consolidation  ...               0         False\n",
              "1              1         credit_card  ...               0         False\n",
              "2              1  debt_consolidation  ...               0         False\n",
              "3              1  debt_consolidation  ...               0         False\n",
              "4              1         credit_card  ...               0         False\n",
              "\n",
              "[5 rows x 15 columns]"
            ]
          },
          "metadata": {
            "tags": []
          },
          "execution_count": 126
        }
      ]
    },
    {
      "cell_type": "code",
      "metadata": {
        "id": "-XpXJuL5kV5c",
        "colab_type": "code",
        "colab": {
          "base_uri": "https://localhost:8080/",
          "height": 51
        },
        "outputId": "63266896-3bf5-4d73-9d29-0bb2db71d68c"
      },
      "source": [
        "dr = data.is_duplicate.value_counts()\n",
        "dr"
      ],
      "execution_count": 127,
      "outputs": [
        {
          "output_type": "execute_result",
          "data": {
            "text/plain": [
              "False    9578\n",
              "Name: is_duplicate, dtype: int64"
            ]
          },
          "metadata": {
            "tags": []
          },
          "execution_count": 127
        }
      ]
    },
    {
      "cell_type": "markdown",
      "metadata": {
        "id": "ejWOU27okk1h",
        "colab_type": "text"
      },
      "source": [
        "Karena tidak ada value **True** maka dapat dikatakan tidak ada data duplikat dalam dataset loan ini."
      ]
    },
    {
      "cell_type": "code",
      "metadata": {
        "id": "DqzilO_YuVsl",
        "colab_type": "code",
        "colab": {}
      },
      "source": [
        "del data['is_duplicate']"
      ],
      "execution_count": 0,
      "outputs": []
    },
    {
      "cell_type": "markdown",
      "metadata": {
        "id": "ieDGzJ0ikxdZ",
        "colab_type": "text"
      },
      "source": [
        "# No. 5\n",
        "Lakukan pengecekan variabel target.\n",
        "\n",
        "Ada berapa kategori pada variable target?\n",
        "\n",
        "Berapa proporsinya?\n",
        "\n",
        "Lakukan visualisasi yang menunjukkan PROPORSI kelas target."
      ]
    },
    {
      "cell_type": "markdown",
      "metadata": {
        "id": "GXSJxm5zlkUb",
        "colab_type": "text"
      },
      "source": [
        "## Pengecekan Variabel Target"
      ]
    },
    {
      "cell_type": "code",
      "metadata": {
        "id": "fStJZU5rl_U7",
        "colab_type": "code",
        "colab": {
          "base_uri": "https://localhost:8080/",
          "height": 119
        },
        "outputId": "7649cbe2-57bf-4713-d929-2e7bb7b4e24f"
      },
      "source": [
        "data['not.fully.paid'].head()"
      ],
      "execution_count": 129,
      "outputs": [
        {
          "output_type": "execute_result",
          "data": {
            "text/plain": [
              "0    0\n",
              "1    0\n",
              "2    0\n",
              "3    0\n",
              "4    0\n",
              "Name: not.fully.paid, dtype: int64"
            ]
          },
          "metadata": {
            "tags": []
          },
          "execution_count": 129
        }
      ]
    },
    {
      "cell_type": "markdown",
      "metadata": {
        "id": "OsYOmUo8mcPx",
        "colab_type": "text"
      },
      "source": [
        "Credit policy merupakan target dari dataset loan ini. Karena tujuan dari pengolahan data ini menggunakan klasifikasi yaitu untuk mengetahui apakah konsumen dapat diberikan polis kredit dari pinjaman yang mereka lakukan."
      ]
    },
    {
      "cell_type": "markdown",
      "metadata": {
        "id": "TcWGLg_QmGE2",
        "colab_type": "text"
      },
      "source": [
        "## Jumlah kategori target"
      ]
    },
    {
      "cell_type": "code",
      "metadata": {
        "id": "wa2SObZbmCWV",
        "colab_type": "code",
        "colab": {
          "base_uri": "https://localhost:8080/",
          "height": 68
        },
        "outputId": "9c0a0c96-de14-4f54-9cc6-ce64ac484f33"
      },
      "source": [
        "cat = data['not.fully.paid'].value_counts()\n",
        "cat"
      ],
      "execution_count": 130,
      "outputs": [
        {
          "output_type": "execute_result",
          "data": {
            "text/plain": [
              "0    8045\n",
              "1    1533\n",
              "Name: not.fully.paid, dtype: int64"
            ]
          },
          "metadata": {
            "tags": []
          },
          "execution_count": 130
        }
      ]
    },
    {
      "cell_type": "markdown",
      "metadata": {
        "id": "CwLD_RqJmaaz",
        "colab_type": "text"
      },
      "source": [
        "Terdapat 2 kategori dalam variabel target yaitu kategori 0 dan 1"
      ]
    },
    {
      "cell_type": "markdown",
      "metadata": {
        "id": "JD_CUdEIm-2v",
        "colab_type": "text"
      },
      "source": [
        "## Porsi Kategori Target\n",
        "\n",
        "Porsi Kategori target yaitu \n",
        "- 80 persen untuk data dengan kategori target 1\n",
        "- 20 persen untuk data dengan kategori target 2"
      ]
    },
    {
      "cell_type": "markdown",
      "metadata": {
        "id": "uUJ5p6mencOx",
        "colab_type": "text"
      },
      "source": [
        "##  Visualisasi Proporsi Kelas Target"
      ]
    },
    {
      "cell_type": "code",
      "metadata": {
        "id": "HIFor7W7mNqU",
        "colab_type": "code",
        "colab": {
          "base_uri": "https://localhost:8080/",
          "height": 320
        },
        "outputId": "50cc6dcd-6684-4d4a-c3a7-87baf5ea484e"
      },
      "source": [
        "colors = ['darkorange', 'sandybrown']\n",
        "explode = (0, 0.1)\n",
        "\n",
        "plt.figure(figsize=(5,5))\n",
        "plt.pie(cat, labels=cat.index, autopct='%.2f',colors=colors,explode=explode)\n",
        "plt.show"
      ],
      "execution_count": 131,
      "outputs": [
        {
          "output_type": "execute_result",
          "data": {
            "text/plain": [
              "<function matplotlib.pyplot.show>"
            ]
          },
          "metadata": {
            "tags": []
          },
          "execution_count": 131
        },
        {
          "output_type": "display_data",
          "data": {
            "image/png": "[encoded data removed]",
            "text/plain": [
              "<Figure size 360x360 with 1 Axes>"
            ]
          },
          "metadata": {
            "tags": []
          }
        }
      ]
    },
    {
      "cell_type": "markdown",
      "metadata": {
        "id": "e4fvp49TnuXn",
        "colab_type": "text"
      },
      "source": [
        "# No. 6 \n",
        " Berapa variansi (ragam) nilai installment?"
      ]
    },
    {
      "cell_type": "code",
      "metadata": {
        "id": "PkPqAQXppiet",
        "colab_type": "code",
        "colab": {
          "base_uri": "https://localhost:8080/",
          "height": 34
        },
        "outputId": "4d4eb5c0-d039-4ac9-d877-a045fd577af0"
      },
      "source": [
        "data['installment'].var()"
      ],
      "execution_count": 132,
      "outputs": [
        {
          "output_type": "execute_result",
          "data": {
            "text/plain": [
              "42878.52390484531"
            ]
          },
          "metadata": {
            "tags": []
          },
          "execution_count": 132
        }
      ]
    },
    {
      "cell_type": "markdown",
      "metadata": {
        "id": "6UGo2w1mpyhg",
        "colab_type": "text"
      },
      "source": [
        "Varians (ragam) dari feature installment adalah 42878.52"
      ]
    },
    {
      "cell_type": "markdown",
      "metadata": {
        "id": "u4-2YGQKotUl",
        "colab_type": "text"
      },
      "source": [
        "# No. 7\n",
        "Berapa nilai simpangan kuartil pada variable ‘installment’?"
      ]
    },
    {
      "cell_type": "code",
      "metadata": {
        "id": "agYb0cDdqjY-",
        "colab_type": "code",
        "colab": {
          "base_uri": "https://localhost:8080/",
          "height": 34
        },
        "outputId": "3d26da7e-fa0d-4f51-f017-6066b77993d3"
      },
      "source": [
        "Q1 = data['installment'].quantile(q=0.25)\n",
        "Q3 = data['installment'].quantile(q=0.75)\n",
        "simpangan = Q3 -Q1\n",
        "simpangan"
      ],
      "execution_count": 133,
      "outputs": [
        {
          "output_type": "execute_result",
          "data": {
            "text/plain": [
              "268.99249999999995"
            ]
          },
          "metadata": {
            "tags": []
          },
          "execution_count": 133
        }
      ]
    },
    {
      "cell_type": "markdown",
      "metadata": {
        "id": "ukcEUbE1rHM9",
        "colab_type": "text"
      },
      "source": [
        "Nilai simpangan quartile pada variable installment yaitu sebesar 268.99"
      ]
    },
    {
      "cell_type": "markdown",
      "metadata": {
        "id": "8DepfmOMpdd0",
        "colab_type": "text"
      },
      "source": [
        "#No.8 (Belum)\n",
        "Berapa nilai installment tertinggi untuk masing-masing tujuan pinjaman (masing-masing kategori pada variable ‘purpose’)?"
      ]
    },
    {
      "cell_type": "markdown",
      "metadata": {
        "id": "kLKleB6-sQoN",
        "colab_type": "text"
      },
      "source": [
        "#No. 9\n",
        "Variable ‘purpose’ menunjukkan tujuan pengajuan pinjaman.\n",
        "\n",
        "Ada berapa kategori pada variable tersebut?\n",
        "\n",
        "Visualisasikan frekuensi pinjaman berdasarkan tujuannya, diurutkan dari frekuensi tertinggi."
      ]
    },
    {
      "cell_type": "markdown",
      "metadata": {
        "id": "EKfmjtz6sc5o",
        "colab_type": "text"
      },
      "source": [
        "## Jumlah Kategori dalam Variable purpose"
      ]
    },
    {
      "cell_type": "code",
      "metadata": {
        "id": "RMKE08aSnp0S",
        "colab_type": "code",
        "colab": {
          "base_uri": "https://localhost:8080/",
          "height": 153
        },
        "outputId": "1c12c0ce-1e94-4597-e97b-eb3cf33af3e9"
      },
      "source": [
        "purpose = data['purpose'].value_counts()\n",
        "purpose"
      ],
      "execution_count": 134,
      "outputs": [
        {
          "output_type": "execute_result",
          "data": {
            "text/plain": [
              "debt_consolidation    3957\n",
              "all_other             2331\n",
              "credit_card           1262\n",
              "home_improvement       629\n",
              "small_business         619\n",
              "major_purchase         437\n",
              "educational            343\n",
              "Name: purpose, dtype: int64"
            ]
          },
          "metadata": {
            "tags": []
          },
          "execution_count": 134
        }
      ]
    },
    {
      "cell_type": "markdown",
      "metadata": {
        "id": "V4YUGIAQsyuh",
        "colab_type": "text"
      },
      "source": [
        "## Visualisasi Variable Purpose"
      ]
    },
    {
      "cell_type": "code",
      "metadata": {
        "id": "QTh6M2N_spAY",
        "colab_type": "code",
        "colab": {
          "base_uri": "https://localhost:8080/",
          "height": 327
        },
        "outputId": "e2f6ca21-818e-4033-f600-d06174533ceb"
      },
      "source": [
        "f=plt.figure(figsize=(25,10))\n",
        "f.add_subplot(2,2,1)\n",
        "sns.countplot(data['purpose'], order=data['purpose'].value_counts().index)"
      ],
      "execution_count": 135,
      "outputs": [
        {
          "output_type": "execute_result",
          "data": {
            "text/plain": [
              "<matplotlib.axes._subplots.AxesSubplot at 0x7f523c87d780>"
            ]
          },
          "metadata": {
            "tags": []
          },
          "execution_count": 135
        },
        {
          "output_type": "display_data",
          "data": {
            "image/png": "[encoded data removed]",
            "text/plain": [
              "<Figure size 1800x720 with 1 Axes>"
            ]
          },
          "metadata": {
            "tags": []
          }
        }
      ]
    },
    {
      "cell_type": "markdown",
      "metadata": {
        "id": "e34fJWXxtE2y",
        "colab_type": "text"
      },
      "source": [
        "Berdasarkan visualisasi tersebut, dapat diketahui **debt consolidatio** merupakan tujuan paling banyak konsumen melakukan pinjaman, dilanjutkan dengan tujuan lainnya seperti **all_other, credit_card, home_improvement, small_business, major_purchase** sedangkan **educational** merupakan tujuan paling sedikit konsumen melakukan pinjaman."
      ]
    },
    {
      "cell_type": "markdown",
      "metadata": {
        "id": "5M86kIG_t_II",
        "colab_type": "text"
      },
      "source": [
        "#No. 10\n",
        "Apakah variable ‘fico’ merupakan predictor yang potensial untuk memprediksi target? Jelaskan argumen anda. Hint: Visualisasikan distribusi ‘fico’ terhadap target."
      ]
    },
    {
      "cell_type": "code",
      "metadata": {
        "id": "6Y1NrJmDs8gK",
        "colab_type": "code",
        "colab": {
          "base_uri": "https://localhost:8080/",
          "height": 577
        },
        "outputId": "1e1e749e-896f-436f-ccc5-fbb608a25bd1"
      },
      "source": [
        "#create correlation with hitmap\n",
        "\n",
        "#create correlation\n",
        "corr = data.corr(method = 'spearman')\n",
        "\n",
        "#convert correlation to numpy array\n",
        "mask = np.array(corr)\n",
        "\n",
        "#to mask the repetitive value for each pair\n",
        "mask[np.tril_indices_from(mask)] = False\n",
        "fig, ax = plt.subplots(figsize = (10,10))\n",
        "fig.set_size_inches(20,8)\n",
        "sns.heatmap(corr, mask = mask, vmax = 0.9, square = True, annot = True)"
      ],
      "execution_count": 136,
      "outputs": [
        {
          "output_type": "execute_result",
          "data": {
            "text/plain": [
              "<matplotlib.axes._subplots.AxesSubplot at 0x7f523c969240>"
            ]
          },
          "metadata": {
            "tags": []
          },
          "execution_count": 136
        },
        {
          "output_type": "display_data",
          "data": {
            "image/png": "[encoded data removed]",
            "text/plain": [
              "<Figure size 1440x576 with 2 Axes>"
            ]
          },
          "metadata": {
            "tags": []
          }
        }
      ]
    },
    {
      "cell_type": "markdown",
      "metadata": {
        "id": "i5mUY5qEu3If",
        "colab_type": "text"
      },
      "source": [
        "- Apakah variable ‘fico’ merupakan predictor yang potensial untuk memprediksi target? **Ya**\n",
        "- Jelaskan argumen anda. Hint: Visualisasikan distribusi ‘fico’ terhadap target.\n",
        "Berdasarkan correlation matrix diatas, dapat diketahui bahwa **variable fico memiliki nilai yang cukup besar dibandingkan variabel yang lain jika dikorelasikan dengan variabel target (not.fully.paid)** sehingga variabel fico merupakan variabel yang potensial untuk memprediksi target."
      ]
    },
    {
      "cell_type": "markdown",
      "metadata": {
        "id": "3vb3Ru5jv68Y",
        "colab_type": "text"
      },
      "source": [
        "# No. 11 \n",
        "Apakah variable ‘purpose’ merupakan predictor yang potensial untuk memprediksi target? Jelaskan argumen anda.\n",
        "\n",
        "Hint: Visualisasikan proporsi setiap kategori dalam variable ‘purpose’ terhadap target. Fungsi pd.crosstab akan membantu.\n"
      ]
    },
    {
      "cell_type": "code",
      "metadata": {
        "id": "JMSaGYZCuJLI",
        "colab_type": "code",
        "colab": {
          "base_uri": "https://localhost:8080/",
          "height": 301
        },
        "outputId": "68a7feb6-75d7-4d44-cbb8-16605988416f"
      },
      "source": [
        "purpose = pd.crosstab(data['purpose'], data['not.fully.paid'])\n",
        "sns.heatmap(purpose, annot=True)"
      ],
      "execution_count": 137,
      "outputs": [
        {
          "output_type": "execute_result",
          "data": {
            "text/plain": [
              "<matplotlib.axes._subplots.AxesSubplot at 0x7f523c981f28>"
            ]
          },
          "metadata": {
            "tags": []
          },
          "execution_count": 137
        },
        {
          "output_type": "display_data",
          "data": {
            "image/png": "[encoded data removed]",
            "text/plain": [
              "<Figure size 432x288 with 2 Axes>"
            ]
          },
          "metadata": {
            "tags": []
          }
        }
      ]
    },
    {
      "cell_type": "code",
      "metadata": {
        "id": "_4Lvo_oHxXoD",
        "colab_type": "code",
        "colab": {
          "base_uri": "https://localhost:8080/",
          "height": 297
        },
        "outputId": "318dbb23-4662-474d-b9c1-0ee708de5eac"
      },
      "source": [
        "purpose"
      ],
      "execution_count": 138,
      "outputs": [
        {
          "output_type": "execute_result",
          "data": {
            "text/html": [
              "<div>\n",
              "<style scoped>\n",
              "    .dataframe tbody tr th:only-of-type {\n",
              "        vertical-align: middle;\n",
              "    }\n",
              "\n",
              "    .dataframe tbody tr th {\n",
              "        vertical-align: top;\n",
              "    }\n",
              "\n",
              "    .dataframe thead th {\n",
              "        text-align: right;\n",
              "    }\n",
              "</style>\n",
              "<table border=\"1\" class=\"dataframe\">\n",
              "  <thead>\n",
              "    <tr style=\"text-align: right;\">\n",
              "      <th>not.fully.paid</th>\n",
              "      <th>0</th>\n",
              "      <th>1</th>\n",
              "    </tr>\n",
              "    <tr>\n",
              "      <th>purpose</th>\n",
              "      <th></th>\n",
              "      <th></th>\n",
              "    </tr>\n",
              "  </thead>\n",
              "  <tbody>\n",
              "    <tr>\n",
              "      <th>all_other</th>\n",
              "      <td>1944</td>\n",
              "      <td>387</td>\n",
              "    </tr>\n",
              "    <tr>\n",
              "      <th>credit_card</th>\n",
              "      <td>1116</td>\n",
              "      <td>146</td>\n",
              "    </tr>\n",
              "    <tr>\n",
              "      <th>debt_consolidation</th>\n",
              "      <td>3354</td>\n",
              "      <td>603</td>\n",
              "    </tr>\n",
              "    <tr>\n",
              "      <th>educational</th>\n",
              "      <td>274</td>\n",
              "      <td>69</td>\n",
              "    </tr>\n",
              "    <tr>\n",
              "      <th>home_improvement</th>\n",
              "      <td>522</td>\n",
              "      <td>107</td>\n",
              "    </tr>\n",
              "    <tr>\n",
              "      <th>major_purchase</th>\n",
              "      <td>388</td>\n",
              "      <td>49</td>\n",
              "    </tr>\n",
              "    <tr>\n",
              "      <th>small_business</th>\n",
              "      <td>447</td>\n",
              "      <td>172</td>\n",
              "    </tr>\n",
              "  </tbody>\n",
              "</table>\n",
              "</div>"
            ],
            "text/plain": [
              "not.fully.paid         0    1\n",
              "purpose                      \n",
              "all_other           1944  387\n",
              "credit_card         1116  146\n",
              "debt_consolidation  3354  603\n",
              "educational          274   69\n",
              "home_improvement     522  107\n",
              "major_purchase       388   49\n",
              "small_business       447  172"
            ]
          },
          "metadata": {
            "tags": []
          },
          "execution_count": 138
        }
      ]
    },
    {
      "cell_type": "markdown",
      "metadata": {
        "id": "SsewM4HQ05Go",
        "colab_type": "text"
      },
      "source": [
        "Berdasarkan hasil diatas, diketahui bahwa jumlah dari pinjaman yang pembayarannya lancar (pengembalian uang penuh) pada kategori (1) lebih besar dibanding pinjaman yang pembayarannya macet (pengembalian uang yang tidak penuh). <br>\n",
        "<br>\n",
        "Dari hasil tersebut, diketahui bahwa **variable purpose merupakan variable potensial untuk memprediksi.**"
      ]
    },
    {
      "cell_type": "markdown",
      "metadata": {
        "id": "g0d3uZla_aRG",
        "colab_type": "text"
      },
      "source": [
        "#No 12\n",
        "Berapa nilai rata-rata dari int.rate untuk purpose dengan kategori ‘credit_card’?"
      ]
    },
    {
      "cell_type": "code",
      "metadata": {
        "id": "BbnMl0l9Aspz",
        "colab_type": "code",
        "colab": {
          "base_uri": "https://localhost:8080/",
          "height": 34
        },
        "outputId": "50a848e9-6088-48fb-cb8c-f14a134fb5eb"
      },
      "source": [
        "avg = data[data['purpose'] == 'credit_card']\n",
        "avgint = avg['int.rate'].mean()\n",
        "avgint"
      ],
      "execution_count": 139,
      "outputs": [
        {
          "output_type": "execute_result",
          "data": {
            "text/plain": [
              "0.11973819334389857"
            ]
          },
          "metadata": {
            "tags": []
          },
          "execution_count": 139
        }
      ]
    },
    {
      "cell_type": "markdown",
      "metadata": {
        "id": "U9wn4_zrBFqi",
        "colab_type": "text"
      },
      "source": [
        "Nilai rata-rata dari int.rate untuk purpose dengan kategori credit card yaity 0.12."
      ]
    },
    {
      "cell_type": "markdown",
      "metadata": {
        "id": "TTqyswno_kCS",
        "colab_type": "text"
      },
      "source": [
        "#No. 13"
      ]
    },
    {
      "cell_type": "code",
      "metadata": {
        "id": "9pJXyu51Aryu",
        "colab_type": "code",
        "colab": {
          "base_uri": "https://localhost:8080/",
          "height": 224
        },
        "outputId": "4ec174a1-1f72-462d-a313-88c347c6141d"
      },
      "source": [
        "pps = data[(data['purpose'] == 'educational') & (data['installment'] > 200)]\n",
        "pps.head()"
      ],
      "execution_count": 140,
      "outputs": [
        {
          "output_type": "execute_result",
          "data": {
            "text/html": [
              "<div>\n",
              "<style scoped>\n",
              "    .dataframe tbody tr th:only-of-type {\n",
              "        vertical-align: middle;\n",
              "    }\n",
              "\n",
              "    .dataframe tbody tr th {\n",
              "        vertical-align: top;\n",
              "    }\n",
              "\n",
              "    .dataframe thead th {\n",
              "        text-align: right;\n",
              "    }\n",
              "</style>\n",
              "<table border=\"1\" class=\"dataframe\">\n",
              "  <thead>\n",
              "    <tr style=\"text-align: right;\">\n",
              "      <th></th>\n",
              "      <th>credit.policy</th>\n",
              "      <th>purpose</th>\n",
              "      <th>int.rate</th>\n",
              "      <th>installment</th>\n",
              "      <th>log.annual.inc</th>\n",
              "      <th>dti</th>\n",
              "      <th>fico</th>\n",
              "      <th>days.with.cr.line</th>\n",
              "      <th>revol.bal</th>\n",
              "      <th>revol.util</th>\n",
              "      <th>inq.last.6mths</th>\n",
              "      <th>delinq.2yrs</th>\n",
              "      <th>pub.rec</th>\n",
              "      <th>not.fully.paid</th>\n",
              "    </tr>\n",
              "  </thead>\n",
              "  <tbody>\n",
              "    <tr>\n",
              "      <th>166</th>\n",
              "      <td>1</td>\n",
              "      <td>educational</td>\n",
              "      <td>0.0838</td>\n",
              "      <td>315.12</td>\n",
              "      <td>10.308953</td>\n",
              "      <td>4.20</td>\n",
              "      <td>737</td>\n",
              "      <td>1560.000000</td>\n",
              "      <td>2282</td>\n",
              "      <td>19.0</td>\n",
              "      <td>1</td>\n",
              "      <td>0</td>\n",
              "      <td>0</td>\n",
              "      <td>0</td>\n",
              "    </tr>\n",
              "    <tr>\n",
              "      <th>171</th>\n",
              "      <td>1</td>\n",
              "      <td>educational</td>\n",
              "      <td>0.0901</td>\n",
              "      <td>572.48</td>\n",
              "      <td>10.621327</td>\n",
              "      <td>15.37</td>\n",
              "      <td>747</td>\n",
              "      <td>7500.000000</td>\n",
              "      <td>4746</td>\n",
              "      <td>18.5</td>\n",
              "      <td>2</td>\n",
              "      <td>0</td>\n",
              "      <td>0</td>\n",
              "      <td>0</td>\n",
              "    </tr>\n",
              "    <tr>\n",
              "      <th>184</th>\n",
              "      <td>1</td>\n",
              "      <td>educational</td>\n",
              "      <td>0.1154</td>\n",
              "      <td>211.17</td>\n",
              "      <td>11.461632</td>\n",
              "      <td>1.83</td>\n",
              "      <td>667</td>\n",
              "      <td>3421.041667</td>\n",
              "      <td>11200</td>\n",
              "      <td>23.2</td>\n",
              "      <td>1</td>\n",
              "      <td>0</td>\n",
              "      <td>0</td>\n",
              "      <td>0</td>\n",
              "    </tr>\n",
              "    <tr>\n",
              "      <th>252</th>\n",
              "      <td>1</td>\n",
              "      <td>educational</td>\n",
              "      <td>0.0933</td>\n",
              "      <td>575.17</td>\n",
              "      <td>11.002100</td>\n",
              "      <td>9.96</td>\n",
              "      <td>732</td>\n",
              "      <td>2732.041667</td>\n",
              "      <td>6703</td>\n",
              "      <td>47.5</td>\n",
              "      <td>1</td>\n",
              "      <td>0</td>\n",
              "      <td>0</td>\n",
              "      <td>0</td>\n",
              "    </tr>\n",
              "    <tr>\n",
              "      <th>312</th>\n",
              "      <td>1</td>\n",
              "      <td>educational</td>\n",
              "      <td>0.0838</td>\n",
              "      <td>293.85</td>\n",
              "      <td>9.392662</td>\n",
              "      <td>0.00</td>\n",
              "      <td>737</td>\n",
              "      <td>1139.000000</td>\n",
              "      <td>0</td>\n",
              "      <td>0.0</td>\n",
              "      <td>1</td>\n",
              "      <td>0</td>\n",
              "      <td>0</td>\n",
              "      <td>0</td>\n",
              "    </tr>\n",
              "  </tbody>\n",
              "</table>\n",
              "</div>"
            ],
            "text/plain": [
              "     credit.policy      purpose  int.rate  ...  delinq.2yrs  pub.rec  not.fully.paid\n",
              "166              1  educational    0.0838  ...            0        0               0\n",
              "171              1  educational    0.0901  ...            0        0               0\n",
              "184              1  educational    0.1154  ...            0        0               0\n",
              "252              1  educational    0.0933  ...            0        0               0\n",
              "312              1  educational    0.0838  ...            0        0               0\n",
              "\n",
              "[5 rows x 14 columns]"
            ]
          },
          "metadata": {
            "tags": []
          },
          "execution_count": 140
        }
      ]
    },
    {
      "cell_type": "code",
      "metadata": {
        "id": "6T0BABCeCRSX",
        "colab_type": "code",
        "colab": {
          "base_uri": "https://localhost:8080/",
          "height": 34
        },
        "outputId": "1c354707-a05b-4ea4-dbeb-4eab47fd6fee"
      },
      "source": [
        "len(pps)"
      ],
      "execution_count": 141,
      "outputs": [
        {
          "output_type": "execute_result",
          "data": {
            "text/plain": [
              "137"
            ]
          },
          "metadata": {
            "tags": []
          },
          "execution_count": 141
        }
      ]
    },
    {
      "cell_type": "markdown",
      "metadata": {
        "id": "eZ9YJzakCUb8",
        "colab_type": "text"
      },
      "source": [
        "Berapa jumlah kasus pinjaman yang nilai installment-nya di atas 200 dan tujuan pinjamannya untuk pendidikan (educational) ?\n",
        "\n",
        "**Jawaban**\n",
        "137 Kasus"
      ]
    },
    {
      "cell_type": "markdown",
      "metadata": {
        "id": "TjD0GRqW_uaE",
        "colab_type": "text"
      },
      "source": [
        "#No. 14\n",
        "Tuliskan script untuk memfilter purpose =’credit_card’ dan simpan dalam dataframe yang disebut loans3."
      ]
    },
    {
      "cell_type": "code",
      "metadata": {
        "id": "wx7e-1_fCh01",
        "colab_type": "code",
        "colab": {
          "base_uri": "https://localhost:8080/",
          "height": 224
        },
        "outputId": "778cc65a-d611-4f37-aafe-3562e62ffd8d"
      },
      "source": [
        "loans3 = data[data['purpose'] == 'credit_card']\n",
        "loans3.head()"
      ],
      "execution_count": 142,
      "outputs": [
        {
          "output_type": "execute_result",
          "data": {
            "text/html": [
              "<div>\n",
              "<style scoped>\n",
              "    .dataframe tbody tr th:only-of-type {\n",
              "        vertical-align: middle;\n",
              "    }\n",
              "\n",
              "    .dataframe tbody tr th {\n",
              "        vertical-align: top;\n",
              "    }\n",
              "\n",
              "    .dataframe thead th {\n",
              "        text-align: right;\n",
              "    }\n",
              "</style>\n",
              "<table border=\"1\" class=\"dataframe\">\n",
              "  <thead>\n",
              "    <tr style=\"text-align: right;\">\n",
              "      <th></th>\n",
              "      <th>credit.policy</th>\n",
              "      <th>purpose</th>\n",
              "      <th>int.rate</th>\n",
              "      <th>installment</th>\n",
              "      <th>log.annual.inc</th>\n",
              "      <th>dti</th>\n",
              "      <th>fico</th>\n",
              "      <th>days.with.cr.line</th>\n",
              "      <th>revol.bal</th>\n",
              "      <th>revol.util</th>\n",
              "      <th>inq.last.6mths</th>\n",
              "      <th>delinq.2yrs</th>\n",
              "      <th>pub.rec</th>\n",
              "      <th>not.fully.paid</th>\n",
              "    </tr>\n",
              "  </thead>\n",
              "  <tbody>\n",
              "    <tr>\n",
              "      <th>1</th>\n",
              "      <td>1</td>\n",
              "      <td>credit_card</td>\n",
              "      <td>0.1071</td>\n",
              "      <td>228.22</td>\n",
              "      <td>11.082143</td>\n",
              "      <td>14.29</td>\n",
              "      <td>707</td>\n",
              "      <td>2760.000000</td>\n",
              "      <td>33623</td>\n",
              "      <td>76.7</td>\n",
              "      <td>0</td>\n",
              "      <td>0</td>\n",
              "      <td>0</td>\n",
              "      <td>0</td>\n",
              "    </tr>\n",
              "    <tr>\n",
              "      <th>4</th>\n",
              "      <td>1</td>\n",
              "      <td>credit_card</td>\n",
              "      <td>0.1426</td>\n",
              "      <td>102.92</td>\n",
              "      <td>11.299732</td>\n",
              "      <td>14.97</td>\n",
              "      <td>667</td>\n",
              "      <td>4066.000000</td>\n",
              "      <td>4740</td>\n",
              "      <td>39.5</td>\n",
              "      <td>0</td>\n",
              "      <td>1</td>\n",
              "      <td>0</td>\n",
              "      <td>0</td>\n",
              "    </tr>\n",
              "    <tr>\n",
              "      <th>5</th>\n",
              "      <td>1</td>\n",
              "      <td>credit_card</td>\n",
              "      <td>0.0788</td>\n",
              "      <td>125.13</td>\n",
              "      <td>11.904968</td>\n",
              "      <td>16.98</td>\n",
              "      <td>727</td>\n",
              "      <td>6120.041667</td>\n",
              "      <td>50807</td>\n",
              "      <td>51.0</td>\n",
              "      <td>0</td>\n",
              "      <td>0</td>\n",
              "      <td>0</td>\n",
              "      <td>0</td>\n",
              "    </tr>\n",
              "    <tr>\n",
              "      <th>17</th>\n",
              "      <td>1</td>\n",
              "      <td>credit_card</td>\n",
              "      <td>0.0894</td>\n",
              "      <td>476.58</td>\n",
              "      <td>11.608236</td>\n",
              "      <td>7.07</td>\n",
              "      <td>797</td>\n",
              "      <td>6510.958333</td>\n",
              "      <td>7586</td>\n",
              "      <td>52.7</td>\n",
              "      <td>1</td>\n",
              "      <td>0</td>\n",
              "      <td>0</td>\n",
              "      <td>0</td>\n",
              "    </tr>\n",
              "    <tr>\n",
              "      <th>22</th>\n",
              "      <td>1</td>\n",
              "      <td>credit_card</td>\n",
              "      <td>0.1355</td>\n",
              "      <td>339.60</td>\n",
              "      <td>11.512925</td>\n",
              "      <td>7.94</td>\n",
              "      <td>662</td>\n",
              "      <td>1939.958333</td>\n",
              "      <td>21162</td>\n",
              "      <td>57.7</td>\n",
              "      <td>0</td>\n",
              "      <td>0</td>\n",
              "      <td>0</td>\n",
              "      <td>0</td>\n",
              "    </tr>\n",
              "  </tbody>\n",
              "</table>\n",
              "</div>"
            ],
            "text/plain": [
              "    credit.policy      purpose  int.rate  ...  delinq.2yrs  pub.rec  not.fully.paid\n",
              "1               1  credit_card    0.1071  ...            0        0               0\n",
              "4               1  credit_card    0.1426  ...            1        0               0\n",
              "5               1  credit_card    0.0788  ...            0        0               0\n",
              "17              1  credit_card    0.0894  ...            0        0               0\n",
              "22              1  credit_card    0.1355  ...            0        0               0\n",
              "\n",
              "[5 rows x 14 columns]"
            ]
          },
          "metadata": {
            "tags": []
          },
          "execution_count": 142
        }
      ]
    },
    {
      "cell_type": "markdown",
      "metadata": {
        "id": "rIPDps3U_yrv",
        "colab_type": "text"
      },
      "source": [
        "#No. 15\n",
        "Siapkan data untuk pemodelan.\n",
        "\n",
        "Ubah data kategorik menjadi dummy variabel.\n",
        "\n",
        "Buat dataframe baru bernama ‘final_data’ yang berisi seluruh features (numerik dan kategorik) dengan peubah kategorik yang sudah diubah menjadi dummy variabel."
      ]
    },
    {
      "cell_type": "code",
      "metadata": {
        "id": "EZNpdcD6CwXB",
        "colab_type": "code",
        "colab": {}
      },
      "source": [
        "final_data = pd.get_dummies(data)"
      ],
      "execution_count": 0,
      "outputs": []
    },
    {
      "cell_type": "code",
      "metadata": {
        "id": "qGG0Wo6jC9Ln",
        "colab_type": "code",
        "colab": {
          "base_uri": "https://localhost:8080/",
          "height": 224
        },
        "outputId": "85a3f4a2-b648-4ef5-a5df-6db7bba32502"
      },
      "source": [
        "final_data.head()"
      ],
      "execution_count": 144,
      "outputs": [
        {
          "output_type": "execute_result",
          "data": {
            "text/html": [
              "<div>\n",
              "<style scoped>\n",
              "    .dataframe tbody tr th:only-of-type {\n",
              "        vertical-align: middle;\n",
              "    }\n",
              "\n",
              "    .dataframe tbody tr th {\n",
              "        vertical-align: top;\n",
              "    }\n",
              "\n",
              "    .dataframe thead th {\n",
              "        text-align: right;\n",
              "    }\n",
              "</style>\n",
              "<table border=\"1\" class=\"dataframe\">\n",
              "  <thead>\n",
              "    <tr style=\"text-align: right;\">\n",
              "      <th></th>\n",
              "      <th>credit.policy</th>\n",
              "      <th>int.rate</th>\n",
              "      <th>installment</th>\n",
              "      <th>log.annual.inc</th>\n",
              "      <th>dti</th>\n",
              "      <th>fico</th>\n",
              "      <th>days.with.cr.line</th>\n",
              "      <th>revol.bal</th>\n",
              "      <th>revol.util</th>\n",
              "      <th>inq.last.6mths</th>\n",
              "      <th>delinq.2yrs</th>\n",
              "      <th>pub.rec</th>\n",
              "      <th>not.fully.paid</th>\n",
              "      <th>purpose_all_other</th>\n",
              "      <th>purpose_credit_card</th>\n",
              "      <th>purpose_debt_consolidation</th>\n",
              "      <th>purpose_educational</th>\n",
              "      <th>purpose_home_improvement</th>\n",
              "      <th>purpose_major_purchase</th>\n",
              "      <th>purpose_small_business</th>\n",
              "    </tr>\n",
              "  </thead>\n",
              "  <tbody>\n",
              "    <tr>\n",
              "      <th>0</th>\n",
              "      <td>1</td>\n",
              "      <td>0.1189</td>\n",
              "      <td>829.10</td>\n",
              "      <td>11.350407</td>\n",
              "      <td>19.48</td>\n",
              "      <td>737</td>\n",
              "      <td>5639.958333</td>\n",
              "      <td>28854</td>\n",
              "      <td>52.1</td>\n",
              "      <td>0</td>\n",
              "      <td>0</td>\n",
              "      <td>0</td>\n",
              "      <td>0</td>\n",
              "      <td>0</td>\n",
              "      <td>0</td>\n",
              "      <td>1</td>\n",
              "      <td>0</td>\n",
              "      <td>0</td>\n",
              "      <td>0</td>\n",
              "      <td>0</td>\n",
              "    </tr>\n",
              "    <tr>\n",
              "      <th>1</th>\n",
              "      <td>1</td>\n",
              "      <td>0.1071</td>\n",
              "      <td>228.22</td>\n",
              "      <td>11.082143</td>\n",
              "      <td>14.29</td>\n",
              "      <td>707</td>\n",
              "      <td>2760.000000</td>\n",
              "      <td>33623</td>\n",
              "      <td>76.7</td>\n",
              "      <td>0</td>\n",
              "      <td>0</td>\n",
              "      <td>0</td>\n",
              "      <td>0</td>\n",
              "      <td>0</td>\n",
              "      <td>1</td>\n",
              "      <td>0</td>\n",
              "      <td>0</td>\n",
              "      <td>0</td>\n",
              "      <td>0</td>\n",
              "      <td>0</td>\n",
              "    </tr>\n",
              "    <tr>\n",
              "      <th>2</th>\n",
              "      <td>1</td>\n",
              "      <td>0.1357</td>\n",
              "      <td>366.86</td>\n",
              "      <td>10.373491</td>\n",
              "      <td>11.63</td>\n",
              "      <td>682</td>\n",
              "      <td>4710.000000</td>\n",
              "      <td>3511</td>\n",
              "      <td>25.6</td>\n",
              "      <td>1</td>\n",
              "      <td>0</td>\n",
              "      <td>0</td>\n",
              "      <td>0</td>\n",
              "      <td>0</td>\n",
              "      <td>0</td>\n",
              "      <td>1</td>\n",
              "      <td>0</td>\n",
              "      <td>0</td>\n",
              "      <td>0</td>\n",
              "      <td>0</td>\n",
              "    </tr>\n",
              "    <tr>\n",
              "      <th>3</th>\n",
              "      <td>1</td>\n",
              "      <td>0.1008</td>\n",
              "      <td>162.34</td>\n",
              "      <td>11.350407</td>\n",
              "      <td>8.10</td>\n",
              "      <td>712</td>\n",
              "      <td>2699.958333</td>\n",
              "      <td>33667</td>\n",
              "      <td>73.2</td>\n",
              "      <td>1</td>\n",
              "      <td>0</td>\n",
              "      <td>0</td>\n",
              "      <td>0</td>\n",
              "      <td>0</td>\n",
              "      <td>0</td>\n",
              "      <td>1</td>\n",
              "      <td>0</td>\n",
              "      <td>0</td>\n",
              "      <td>0</td>\n",
              "      <td>0</td>\n",
              "    </tr>\n",
              "    <tr>\n",
              "      <th>4</th>\n",
              "      <td>1</td>\n",
              "      <td>0.1426</td>\n",
              "      <td>102.92</td>\n",
              "      <td>11.299732</td>\n",
              "      <td>14.97</td>\n",
              "      <td>667</td>\n",
              "      <td>4066.000000</td>\n",
              "      <td>4740</td>\n",
              "      <td>39.5</td>\n",
              "      <td>0</td>\n",
              "      <td>1</td>\n",
              "      <td>0</td>\n",
              "      <td>0</td>\n",
              "      <td>0</td>\n",
              "      <td>1</td>\n",
              "      <td>0</td>\n",
              "      <td>0</td>\n",
              "      <td>0</td>\n",
              "      <td>0</td>\n",
              "      <td>0</td>\n",
              "    </tr>\n",
              "  </tbody>\n",
              "</table>\n",
              "</div>"
            ],
            "text/plain": [
              "   credit.policy  int.rate  ...  purpose_major_purchase  purpose_small_business\n",
              "0              1    0.1189  ...                       0                       0\n",
              "1              1    0.1071  ...                       0                       0\n",
              "2              1    0.1357  ...                       0                       0\n",
              "3              1    0.1008  ...                       0                       0\n",
              "4              1    0.1426  ...                       0                       0\n",
              "\n",
              "[5 rows x 20 columns]"
            ]
          },
          "metadata": {
            "tags": []
          },
          "execution_count": 144
        }
      ]
    },
    {
      "cell_type": "markdown",
      "metadata": {
        "id": "mMS8jWL1_5kN",
        "colab_type": "text"
      },
      "source": [
        "#No.16\n",
        "Split final_data yang didapatkan dari soal sebelumnya menjadi data train dan data test. Proporsi data test adalah 0.30. Gunakan random_state = 101."
      ]
    },
    {
      "cell_type": "code",
      "metadata": {
        "id": "Sn5wyIv5DQ-4",
        "colab_type": "code",
        "colab": {}
      },
      "source": [
        "X = final_data.iloc[:, 0: 14].values # ambil kolom 2 sampai dengan kolom 8\n",
        "y = final_data.iloc[:, -1].values"
      ],
      "execution_count": 0,
      "outputs": []
    },
    {
      "cell_type": "code",
      "metadata": {
        "id": "DPoto972Dp_d",
        "colab_type": "code",
        "colab": {}
      },
      "source": [
        "from sklearn.model_selection import train_test_split\n",
        "X_train, X_test, y_train, y_test = train_test_split(X, y, test_size = 0.3, random_state = 0)"
      ],
      "execution_count": 0,
      "outputs": []
    },
    {
      "cell_type": "markdown",
      "metadata": {
        "id": "nQ9w6viH_-AQ",
        "colab_type": "text"
      },
      "source": [
        "#No. 17\n",
        "Buatlah sebuah instance DecisionTreeClassifier yang disebut ‘dtree’ dan buatlah model dari training data menggunakan dtree tersebut."
      ]
    },
    {
      "cell_type": "code",
      "metadata": {
        "id": "VKNxJtBOD7Pe",
        "colab_type": "code",
        "colab": {
          "base_uri": "https://localhost:8080/",
          "height": 119
        },
        "outputId": "7bded052-fb32-4211-8b8d-ddd5de2f1807"
      },
      "source": [
        "dtree = DecisionTreeClassifier()\n",
        "dtree # it shows the default parameters"
      ],
      "execution_count": 147,
      "outputs": [
        {
          "output_type": "execute_result",
          "data": {
            "text/plain": [
              "DecisionTreeClassifier(class_weight=None, criterion='gini', max_depth=None,\n",
              "                       max_features=None, max_leaf_nodes=None,\n",
              "                       min_impurity_decrease=0.0, min_impurity_split=None,\n",
              "                       min_samples_leaf=1, min_samples_split=2,\n",
              "                       min_weight_fraction_leaf=0.0, presort=False,\n",
              "                       random_state=None, splitter='best')"
            ]
          },
          "metadata": {
            "tags": []
          },
          "execution_count": 147
        }
      ]
    },
    {
      "cell_type": "code",
      "metadata": {
        "id": "91gkRmXiEN6h",
        "colab_type": "code",
        "colab": {
          "base_uri": "https://localhost:8080/",
          "height": 119
        },
        "outputId": "45b64aa5-34cc-469e-b96c-5952d131572b"
      },
      "source": [
        "dtree.fit(X_train,y_train)"
      ],
      "execution_count": 148,
      "outputs": [
        {
          "output_type": "execute_result",
          "data": {
            "text/plain": [
              "DecisionTreeClassifier(class_weight=None, criterion='gini', max_depth=None,\n",
              "                       max_features=None, max_leaf_nodes=None,\n",
              "                       min_impurity_decrease=0.0, min_impurity_split=None,\n",
              "                       min_samples_leaf=1, min_samples_split=2,\n",
              "                       min_weight_fraction_leaf=0.0, presort=False,\n",
              "                       random_state=None, splitter='best')"
            ]
          },
          "metadata": {
            "tags": []
          },
          "execution_count": 148
        }
      ]
    },
    {
      "cell_type": "markdown",
      "metadata": {
        "id": "LlO4WEMZADwZ",
        "colab_type": "text"
      },
      "source": [
        "#No. 18\n",
        "Buatlah script untuk meprediksi target pada data test dengan menggunakan model yang telah dibuat sebelumnya, simpan dalam variable ‘predictions’"
      ]
    },
    {
      "cell_type": "code",
      "metadata": {
        "id": "Z1inIEp7EnLM",
        "colab_type": "code",
        "colab": {}
      },
      "source": [
        "predictions = dtree.predict(X_test)"
      ],
      "execution_count": 0,
      "outputs": []
    },
    {
      "cell_type": "markdown",
      "metadata": {
        "id": "-NjQN7SqAJ7L",
        "colab_type": "text"
      },
      "source": [
        "#No. 19\n",
        "Tampilkan confusion matrix antara hasil prediksi dan target data test."
      ]
    },
    {
      "cell_type": "code",
      "metadata": {
        "id": "2hooNoJSFchs",
        "colab_type": "code",
        "colab": {
          "base_uri": "https://localhost:8080/",
          "height": 68
        },
        "outputId": "f62669b9-4c78-4f85-e15e-ab9a2e9a13a0"
      },
      "source": [
        "from sklearn.metrics import classification_report, roc_auc_score, roc_curve, confusion_matrix, recall_score, precision_score\n",
        "print('Confusion Matrix')\n",
        "ConMat = confusion_matrix(y_test, predictions)\n",
        "print(confusion_matrix(y_test, predictions))"
      ],
      "execution_count": 150,
      "outputs": [
        {
          "output_type": "stream",
          "text": [
            "Confusion Matrix\n",
            "[[2562  125]\n",
            " [ 126   61]]\n"
          ],
          "name": "stdout"
        }
      ]
    },
    {
      "cell_type": "markdown",
      "metadata": {
        "id": "lSIeSboHAQB5",
        "colab_type": "text"
      },
      "source": [
        "#No. 20\n",
        "Tampilkan ukuran kebaikan model, setidaknya nilai Akurasi, Sensitivity dan Specificity."
      ]
    },
    {
      "cell_type": "code",
      "metadata": {
        "id": "JziPSMuzzl8m",
        "colab_type": "code",
        "colab": {
          "base_uri": "https://localhost:8080/",
          "height": 68
        },
        "outputId": "7bb201a3-a213-4cd9-8092-b86df30014ae"
      },
      "source": [
        "total=sum(sum(ConMat))\n",
        "accuracy=(ConMat[0,0]+ConMat[1,1]/total)\n",
        "print('Accuracy :', round(accuracy*100,2))\n",
        "\n",
        "sensitivity=ConMat[0,0]/(ConMat[0,0]+ConMat[0,1])\n",
        "print('Sensitivity :', round(sensitivity*100,2))\n",
        "\n",
        "specificity = ConMat[1,1]/(ConMat[1,0]+ConMat[1,1])\n",
        "print('Specificity :', round(specificity*100,2))"
      ],
      "execution_count": 153,
      "outputs": [
        {
          "output_type": "stream",
          "text": [
            "Accuracy : 256202.12\n",
            "Sensitivity : 95.35\n",
            "Specificity : 32.62\n"
          ],
          "name": "stdout"
        }
      ]
    },
    {
      "cell_type": "code",
      "metadata": {
        "id": "iIDJjf_CE1Vc",
        "colab_type": "code",
        "colab": {}
      },
      "source": [
        ""
      ],
      "execution_count": 0,
      "outputs": []
    }
  ]
}